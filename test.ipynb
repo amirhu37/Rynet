{
 "cells": [
  {
   "cell_type": "code",
   "execution_count": 1,
   "metadata": {},
   "outputs": [],
   "source": [
    "from IPython.display import clear_output"
   ]
  },
  {
   "cell_type": "code",
   "execution_count": 2,
   "metadata": {},
   "outputs": [],
   "source": [
    "import torch\n",
    "import torch.nn as nn\n",
    "import numpy as np\n",
    "\n",
    "clear_output()"
   ]
  },
  {
   "cell_type": "code",
   "execution_count": 3,
   "metadata": {},
   "outputs": [],
   "source": [
    "from rnet import rnet "
   ]
  },
  {
   "cell_type": "code",
   "execution_count": 4,
   "metadata": {},
   "outputs": [],
   "source": [
    "array = np.array([1,2], dtype=np.float32)\n",
    "\n",
    "\n",
    "test_weight = np.array([[1,2]\n",
    "                        ,[3,4]], dtype=np.float32)\n",
    "\n",
    "test_bias = np.array([1,2], dtype=np.float32)\n",
    "\n",
    " "
   ]
  },
  {
   "cell_type": "code",
   "execution_count": 5,
   "metadata": {},
   "outputs": [],
   "source": [
    "my_linear_layer = rnet.Linear(in_features=2, out_features=2, is_bias=True)\n",
    "torch_linear_layer =  nn.Linear(2, 2)"
   ]
  },
  {
   "cell_type": "code",
   "execution_count": 6,
   "metadata": {},
   "outputs": [
    {
     "name": "stdout",
     "output_type": "stream",
     "text": [
      "\n",
      "origin wights :\n",
      "[[0.86793067 0.21336931]\n",
      " [0.83357403 0.1529093 ]]\n",
      "    ---------------------\n",
      "[0.52474148 0.1788682 ]\n",
      "\n",
      "torch weights, bias:\n",
      "tensor([[ 0.2964, -0.6877],\n",
      "        [ 0.5105,  0.1474]])\n",
      "tensor([ 0.1113, -0.5655])\n",
      "\n",
      "\n"
     ]
    }
   ],
   "source": [
    "print(f\"\"\"\n",
    "origin wights :\n",
    "{my_linear_layer.weight}\n",
    "    ---------------------\n",
    "{my_linear_layer.bias}\n",
    "\n",
    "torch weights, bias:\n",
    "{torch_linear_layer.weight.data}\n",
    "{torch_linear_layer.bias.data}\n",
    "\n",
    "\"\"\")"
   ]
  },
  {
   "cell_type": "code",
   "execution_count": 7,
   "metadata": {},
   "outputs": [
    {
     "name": "stdout",
     "output_type": "stream",
     "text": [
      "my_linear_layer.weight: \n",
      " [[1. 2.]\n",
      " [3. 4.]] \n",
      " torch_linear_layer.weight: \n",
      " Parameter containing:\n",
      "tensor([[1., 2.],\n",
      "        [3., 4.]], requires_grad=True) \n",
      "\n",
      " my_linear_layer.bias: \n",
      " [1. 2.] \n",
      " torch_linear_layer.bias: \n",
      " Parameter containing:\n",
      "tensor([1., 2.], requires_grad=True) \n",
      "\n"
     ]
    }
   ],
   "source": [
    "my_linear_layer.weight = test_weight\n",
    "torch_linear_layer.weight = nn.Parameter(torch.tensor(test_weight, dtype=torch.float32))\n",
    "\n",
    "my_linear_layer.bias = test_bias\n",
    "torch_linear_layer.bias = nn.Parameter(torch.tensor(test_bias, dtype=torch.float32))\n",
    "\n",
    "\n",
    "print(\n",
    "    \"my_linear_layer.weight: \\n\", my_linear_layer.weight, \"\\n\",\n",
    "    \"torch_linear_layer.weight: \\n\", torch_linear_layer.weight, \"\\n\\n\",\n",
    "    \"my_linear_layer.bias: \\n\", my_linear_layer.bias, \"\\n\",\n",
    "    \"torch_linear_layer.bias: \\n\", torch_linear_layer.bias, \"\\n\",\n",
    ")"
   ]
  },
  {
   "cell_type": "code",
   "execution_count": 8,
   "metadata": {},
   "outputs": [
    {
     "data": {
      "text/plain": [
       "array([ 6., 13.], dtype=float32)"
      ]
     },
     "execution_count": 8,
     "metadata": {},
     "output_type": "execute_result"
    }
   ],
   "source": [
    "my_linear_layer(array)"
   ]
  },
  {
   "cell_type": "code",
   "execution_count": 9,
   "metadata": {},
   "outputs": [
    {
     "name": "stdout",
     "output_type": "stream",
     "text": [
      "Original product:\n",
      " [ 6. 13.],\n",
      "PyTorch product:\n",
      " tensor([ 6., 13.], grad_fn=<ViewBackward0>)\n"
     ]
    }
   ],
   "source": [
    "my_product = my_linear_layer(array)\n",
    "torch_product = torch_linear_layer(torch.tensor(array, dtype=torch.float32))\n",
    "\n",
    "print(\n",
    "    f\"Original product:\\n {my_product},\\n\"\n",
    "    f\"PyTorch product:\\n {torch_product}\"\n",
    ")"
   ]
  },
  {
   "cell_type": "code",
   "execution_count": 10,
   "metadata": {},
   "outputs": [
    {
     "data": {
      "text/plain": [
       "array([ 6., 13.], dtype=float32)"
      ]
     },
     "execution_count": 10,
     "metadata": {},
     "output_type": "execute_result"
    }
   ],
   "source": [
    "(array @ my_linear_layer.weight.T) + my_linear_layer.bias"
   ]
  },
  {
   "cell_type": "code",
   "execution_count": 11,
   "metadata": {},
   "outputs": [
    {
     "data": {
      "text/plain": [
       "tensor([ 6., 13.], grad_fn=<AddBackward0>)"
      ]
     },
     "execution_count": 11,
     "metadata": {},
     "output_type": "execute_result"
    }
   ],
   "source": [
    "( torch.tensor(array, dtype = torch.float32) @ torch_linear_layer.weight.detach().T) + nn.Parameter(torch_linear_layer.bias)"
   ]
  },
  {
   "cell_type": "code",
   "execution_count": null,
   "metadata": {},
   "outputs": [],
   "source": []
  },
  {
   "cell_type": "code",
   "execution_count": null,
   "metadata": {},
   "outputs": [],
   "source": []
  }
 ],
 "metadata": {
  "kernelspec": {
   "display_name": "vir-env",
   "language": "python",
   "name": "python3"
  },
  "language_info": {
   "codemirror_mode": {
    "name": "ipython",
    "version": 3
   },
   "file_extension": ".py",
   "mimetype": "text/x-python",
   "name": "python",
   "nbconvert_exporter": "python",
   "pygments_lexer": "ipython3",
   "version": "3.11.0"
  }
 },
 "nbformat": 4,
 "nbformat_minor": 2
}
